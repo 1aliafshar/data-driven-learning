{
 "cells": [
  {
   "cell_type": "markdown",
   "metadata": {},
   "source": [
    "# Linear regression example\n",
    "In this example, we are using a dataset with [YouTube statistics from the top 5000 channels](https://www.kaggle.com/mdhrumil/top-5000-youtube-channels-data-from-socialblade)"
   ]
  },
  {
   "cell_type": "code",
   "execution_count": 33,
   "metadata": {},
   "outputs": [],
   "source": [
    "import seaborn as sns\n",
    "import sklearn as sk #this is the most popular library for statistics and machine learning\n",
    "import pandas as pd\n",
    "import matplotlib.pyplot as plt "
   ]
  },
  {
   "cell_type": "code",
   "execution_count": 35,
   "metadata": {},
   "outputs": [
    {
     "data": {
      "text/html": [
       "<div>\n",
       "<style scoped>\n",
       "    .dataframe tbody tr th:only-of-type {\n",
       "        vertical-align: middle;\n",
       "    }\n",
       "\n",
       "    .dataframe tbody tr th {\n",
       "        vertical-align: top;\n",
       "    }\n",
       "\n",
       "    .dataframe thead th {\n",
       "        text-align: right;\n",
       "    }\n",
       "</style>\n",
       "<table border=\"1\" class=\"dataframe\">\n",
       "  <thead>\n",
       "    <tr style=\"text-align: right;\">\n",
       "      <th></th>\n",
       "      <th>name</th>\n",
       "      <th>subscribers</th>\n",
       "      <th>views</th>\n",
       "      <th>uploads</th>\n",
       "    </tr>\n",
       "  </thead>\n",
       "  <tbody>\n",
       "    <tr>\n",
       "      <th>4602</th>\n",
       "      <td>PewDiePie</td>\n",
       "      <td>65995310</td>\n",
       "      <td>18684630003</td>\n",
       "      <td>203934</td>\n",
       "    </tr>\n",
       "    <tr>\n",
       "      <th>4609</th>\n",
       "      <td>T-Series</td>\n",
       "      <td>61196302</td>\n",
       "      <td>47548839843</td>\n",
       "      <td>422326</td>\n",
       "    </tr>\n",
       "    <tr>\n",
       "      <th>4603</th>\n",
       "      <td>Canal KondZilla</td>\n",
       "      <td>39409726</td>\n",
       "      <td>19291034467</td>\n",
       "      <td>207072</td>\n",
       "    </tr>\n",
       "    <tr>\n",
       "      <th>4487</th>\n",
       "      <td>Dude Perfect</td>\n",
       "      <td>34489432</td>\n",
       "      <td>6095981611</td>\n",
       "      <td>35135</td>\n",
       "    </tr>\n",
       "    <tr>\n",
       "      <th>4338</th>\n",
       "      <td>HolaSoyGerman.</td>\n",
       "      <td>34480357</td>\n",
       "      <td>3617584451</td>\n",
       "      <td>12902</td>\n",
       "    </tr>\n",
       "    <tr>\n",
       "      <th>4601</th>\n",
       "      <td>JustinBieberVEVO</td>\n",
       "      <td>34284457</td>\n",
       "      <td>17806717170</td>\n",
       "      <td>200928</td>\n",
       "    </tr>\n",
       "    <tr>\n",
       "      <th>4590</th>\n",
       "      <td>Ed Sheeran</td>\n",
       "      <td>33961184</td>\n",
       "      <td>14521211040</td>\n",
       "      <td>121387</td>\n",
       "    </tr>\n",
       "    <tr>\n",
       "      <th>4540</th>\n",
       "      <td>5-Minute Crafts</td>\n",
       "      <td>33492951</td>\n",
       "      <td>8587520379</td>\n",
       "      <td>58514</td>\n",
       "    </tr>\n",
       "    <tr>\n",
       "      <th>4608</th>\n",
       "      <td>WWE</td>\n",
       "      <td>32852346</td>\n",
       "      <td>26273668433</td>\n",
       "      <td>355996</td>\n",
       "    </tr>\n",
       "    <tr>\n",
       "      <th>4153</th>\n",
       "      <td>whinderssonnunes</td>\n",
       "      <td>31332790</td>\n",
       "      <td>2574018722</td>\n",
       "      <td>6181</td>\n",
       "    </tr>\n",
       "  </tbody>\n",
       "</table>\n",
       "</div>"
      ],
      "text/plain": [
       "                  name  subscribers        views  uploads\n",
       "4602         PewDiePie     65995310  18684630003   203934\n",
       "4609          T-Series     61196302  47548839843   422326\n",
       "4603   Canal KondZilla     39409726  19291034467   207072\n",
       "4487      Dude Perfect     34489432   6095981611    35135\n",
       "4338    HolaSoyGerman.     34480357   3617584451    12902\n",
       "4601  JustinBieberVEVO     34284457  17806717170   200928\n",
       "4590        Ed Sheeran     33961184  14521211040   121387\n",
       "4540   5-Minute Crafts     33492951   8587520379    58514\n",
       "4608               WWE     32852346  26273668433   355996\n",
       "4153  whinderssonnunes     31332790   2574018722     6181"
      ]
     },
     "execution_count": 35,
     "metadata": {},
     "output_type": "execute_result"
    }
   ],
   "source": [
    "df = pd.read_csv('youtube.csv')\n",
    "df = df.sort_values(by='subscribers', ascending=False) #sort the data set to see the biggest channels first\n",
    "df.head(10)"
   ]
  },
  {
   "cell_type": "markdown",
   "metadata": {},
   "source": [
    "These big numbers are kind of hard to work with. Let's divide the subscribers and views by a million to get \"millions of subscribers\" and \"millions of views\"."
   ]
  },
  {
   "cell_type": "code",
   "execution_count": 37,
   "metadata": {},
   "outputs": [],
   "source": [
    "df['subscribers'] = df['subscribers'] / 1000000\n",
    "df['views'] = df['views'] / 1000000"
   ]
  },
  {
   "cell_type": "markdown",
   "metadata": {},
   "source": [
    "Let's see if we can find a relation between subscribers and views. Let's first plot the relation. We'll plot subscribers on the x-asis, because subscribers are more likely to be the cause of views, than vice versa. That is, subscribers is our _independent_ variable, views our _dependent variable_."
   ]
  },
  {
   "cell_type": "code",
   "execution_count": 39,
   "metadata": {},
   "outputs": [
    {
     "data": {
      "image/png": "[encoded data removed]",
      "text/plain": [
       "<matplotlib.figure.Figure at 0x2aa77315ef0>"
      ]
     },
     "metadata": {
      "needs_background": "light"
     },
     "output_type": "display_data"
    }
   ],
   "source": [
    "sns.lmplot(x='subscribers', y='views', fit_reg=False, data=df) #fit_reg=False leaves out the regression line; see below\n",
    "plt.xlabel('Subscribers (millions)')\n",
    "plt.ylabel('Views (millions)')\n",
    "plt.title('YouTube channels subscribers and views')\n",
    "plt.show()"
   ]
  },
  {
   "cell_type": "markdown",
   "metadata": {},
   "source": [
    "There are a few things to note here:\n",
    "1. First, the data seem to fit a linear pattern: you can draw a straight line to fit the points\n",
    "2. However, there is quite a bit of variation around this line. Some points will be above it, some below.\n",
    "3. This variation seems to increase with the number of subscribers. That is, the more subscribers, the more uncertain the relation between subscribers and views.\n",
    "\n",
    "Let's draw the line. In fact, Seaborn will automatically fit a line if you do not include the `fit_reg=False` argument:"
   ]
  },
  {
   "cell_type": "code",
   "execution_count": 40,
   "metadata": {},
   "outputs": [
    {
     "data": {
      "image/png": "[encoded data removed]",
      "text/plain": [
       "<matplotlib.figure.Figure at 0x2aa77331908>"
      ]
     },
     "metadata": {
      "needs_background": "light"
     },
     "output_type": "display_data"
    }
   ],
   "source": [
    "sns.lmplot(x='subscribers', y='views', data=df, ci=False) #The last argument leaves out a so-called \"confidence interval\"\n",
    "plt.title('YouTube channels subscribers and views')\n",
    "plt.show()"
   ]
  },
  {
   "cell_type": "markdown",
   "metadata": {},
   "source": [
    "The line has a 95% 'confidence interval' (CI) band around it, for the direction of the line. The 95% CI is constructed such, that 95% of the sample values fall inside the interval. If that sounds too complicated, just remember that it shows the uncertainty in the line fit.\n",
    "\n",
    "Let's fit a linear model to determine the coefficients of the line. We'll do this with the machine learning package `sk-learn`."
   ]
  },
  {
   "cell_type": "code",
   "execution_count": 10,
   "metadata": {},
   "outputs": [
    {
     "name": "stdout",
     "output_type": "stream",
     "text": [
      "[ 416.79038351]\n",
      "45775745.6952\n",
      "0.626062559704\n"
     ]
    }
   ],
   "source": [
    "from sklearn.linear_model import LinearRegression #We need this specific model from sk-learn\n",
    "\n",
    "x = df[['subscribers']] #to use sk-learn, we need to create lists of the two variables\n",
    "y = df['views']\n",
    "lm = LinearRegression() #this creates a new LR model\n",
    "lm.fit(x, y) #this \"fits\" the model\n",
    "\n",
    "print(lm.coef_)\n",
    "print(lm.intercept_)\n",
    "print(lm.score(x,y))"
   ]
  },
  {
   "cell_type": "code",
   "execution_count": null,
   "metadata": {},
   "outputs": [],
   "source": []
  },
  {
   "cell_type": "code",
   "execution_count": null,
   "metadata": {},
   "outputs": [],
   "source": []
  }
 ],
 "metadata": {
  "kernelspec": {
   "display_name": "Python 3",
   "language": "python",
   "name": "python3"
  },
  "language_info": {
   "codemirror_mode": {
    "name": "ipython",
    "version": 3
   },
   "file_extension": ".py",
   "mimetype": "text/x-python",
   "name": "python",
   "nbconvert_exporter": "python",
   "pygments_lexer": "ipython3",
   "version": "3.6.4"
  }
 },
 "nbformat": 4,
 "nbformat_minor": 2
}
