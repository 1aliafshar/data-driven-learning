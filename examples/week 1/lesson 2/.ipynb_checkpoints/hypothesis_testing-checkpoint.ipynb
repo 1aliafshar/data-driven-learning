{
 "cells": [
  {
   "cell_type": "markdown",
   "metadata": {},
   "source": [
    "# Hypothesis testing\n",
    "\n",
    "I'm again using a selection from a data set with [Google Play apps](https://www.kaggle.com/lava18/google-play-store-apps/home). There are a few more columns this time."
   ]
  },
  {
   "cell_type": "code",
   "execution_count": 16,
   "metadata": {
    "scrolled": true
   },
   "outputs": [
    {
     "data": {
      "text/html": [
       "<div>\n",
       "<style scoped>\n",
       "    .dataframe tbody tr th:only-of-type {\n",
       "        vertical-align: middle;\n",
       "    }\n",
       "\n",
       "    .dataframe tbody tr th {\n",
       "        vertical-align: top;\n",
       "    }\n",
       "\n",
       "    .dataframe thead th {\n",
       "        text-align: right;\n",
       "    }\n",
       "</style>\n",
       "<table border=\"1\" class=\"dataframe\">\n",
       "  <thead>\n",
       "    <tr style=\"text-align: right;\">\n",
       "      <th></th>\n",
       "      <th>app</th>\n",
       "      <th>installs</th>\n",
       "      <th>type</th>\n",
       "      <th>content</th>\n",
       "      <th>genre</th>\n",
       "      <th>version</th>\n",
       "      <th>reviews</th>\n",
       "      <th>rating</th>\n",
       "      <th>size</th>\n",
       "      <th>price</th>\n",
       "    </tr>\n",
       "  </thead>\n",
       "  <tbody>\n",
       "    <tr>\n",
       "      <th>0</th>\n",
       "      <td>Diário Escola Mestres EF</td>\n",
       "      <td>1,000+</td>\n",
       "      <td>Free</td>\n",
       "      <td>Everyone</td>\n",
       "      <td>Education</td>\n",
       "      <td>4.0 and up</td>\n",
       "      <td>11</td>\n",
       "      <td>NaN</td>\n",
       "      <td>6.6</td>\n",
       "      <td>0.0</td>\n",
       "    </tr>\n",
       "    <tr>\n",
       "      <th>1</th>\n",
       "      <td>WeFi - Free Fast WiFi Connect &amp; Find Wi-Fi Map</td>\n",
       "      <td>1,000,000+</td>\n",
       "      <td>Free</td>\n",
       "      <td>Everyone</td>\n",
       "      <td>Communication</td>\n",
       "      <td>4.0 and up</td>\n",
       "      <td>13469</td>\n",
       "      <td>4.0</td>\n",
       "      <td>5.1</td>\n",
       "      <td>0.0</td>\n",
       "    </tr>\n",
       "    <tr>\n",
       "      <th>2</th>\n",
       "      <td>Discovery K!ds Play! Español</td>\n",
       "      <td>1,000,000+</td>\n",
       "      <td>Free</td>\n",
       "      <td>Everyone</td>\n",
       "      <td>Entertainment;Music &amp; Video</td>\n",
       "      <td>4.0.3 and up</td>\n",
       "      <td>11263</td>\n",
       "      <td>4.2</td>\n",
       "      <td>35.0</td>\n",
       "      <td>0.0</td>\n",
       "    </tr>\n",
       "    <tr>\n",
       "      <th>3</th>\n",
       "      <td>Skyscanner</td>\n",
       "      <td>10,000,000+</td>\n",
       "      <td>Free</td>\n",
       "      <td>Everyone</td>\n",
       "      <td>Travel &amp; Local</td>\n",
       "      <td>4.4 and up</td>\n",
       "      <td>481546</td>\n",
       "      <td>4.5</td>\n",
       "      <td>29.0</td>\n",
       "      <td>0.0</td>\n",
       "    </tr>\n",
       "    <tr>\n",
       "      <th>4</th>\n",
       "      <td>Skyscanner</td>\n",
       "      <td>10,000,000+</td>\n",
       "      <td>Free</td>\n",
       "      <td>Everyone</td>\n",
       "      <td>Travel &amp; Local</td>\n",
       "      <td>4.4 and up</td>\n",
       "      <td>481546</td>\n",
       "      <td>4.5</td>\n",
       "      <td>29.0</td>\n",
       "      <td>0.0</td>\n",
       "    </tr>\n",
       "  </tbody>\n",
       "</table>\n",
       "</div>"
      ],
      "text/plain": [
       "                                              app     installs  type  \\\n",
       "0                        Diário Escola Mestres EF       1,000+  Free   \n",
       "1  WeFi - Free Fast WiFi Connect & Find Wi-Fi Map   1,000,000+  Free   \n",
       "2                    Discovery K!ds Play! Español   1,000,000+  Free   \n",
       "3                                      Skyscanner  10,000,000+  Free   \n",
       "4                                      Skyscanner  10,000,000+  Free   \n",
       "\n",
       "    content                        genre       version  reviews  rating  size  \\\n",
       "0  Everyone                    Education    4.0 and up       11     NaN   6.6   \n",
       "1  Everyone                Communication    4.0 and up    13469     4.0   5.1   \n",
       "2  Everyone  Entertainment;Music & Video  4.0.3 and up    11263     4.2  35.0   \n",
       "3  Everyone               Travel & Local    4.4 and up   481546     4.5  29.0   \n",
       "4  Everyone               Travel & Local    4.4 and up   481546     4.5  29.0   \n",
       "\n",
       "   price  \n",
       "0    0.0  \n",
       "1    0.0  \n",
       "2    0.0  \n",
       "3    0.0  \n",
       "4    0.0  "
      ]
     },
     "execution_count": 16,
     "metadata": {},
     "output_type": "execute_result"
    }
   ],
   "source": [
    "import seaborn as sns\n",
    "import pandas as pd\n",
    "import matplotlib.pyplot as plt\n",
    "from scipy.stats import ttest_ind #Scipy is a package for scientific Python. We need it for the t-test\n",
    "\n",
    "df = pd.read_csv('googleplay.csv')\n",
    "df.head()"
   ]
  },
  {
   "cell_type": "markdown",
   "metadata": {},
   "source": [
    "Let's say you have the hypothesis that paid apps are rated differently than free apps. On the one hand, people have paid for them - presumably they thought it was worth the money. On the other hand, they might be more critical because they paid money. \n",
    "\n",
    "Let's first plot the two distributions together. Remember, it's always a good idea to plot your data before you do analysis!\n",
    "\n",
    "[There is a nice page](https://seaborn.pydata.org/tutorial/categorical.html) from the Seaborn documentation showing different plots that you can use with categorical/qualitative data. Let's start with a \"swarm plot\". This is the standard when you use Seaborn's `catplot`."
   ]
  },
  {
   "cell_type": "code",
   "execution_count": 13,
   "metadata": {},
   "outputs": [
    {
     "data": {
      "image/png": "[encoded data removed]",
      "text/plain": [
       "<matplotlib.figure.Figure at 0x21f484a6c18>"
      ]
     },
     "metadata": {
      "needs_background": "light"
     },
     "output_type": "display_data"
    }
   ],
   "source": [
    "#Note that we are using the data= syntax, which allows us to use the columns as arguments\n",
    "sns.catplot(x='type',y='rating',data=df)\n",
    "plt.title('Rating by type of Google Play app')\n",
    "plt.ylabel('Rating (stars)')\n",
    "plt.xlabel('Type')\n",
    "plt.show() #We can leave this out, but if we do the last line of code is shown inside the Notebook"
   ]
  },
  {
   "cell_type": "markdown",
   "metadata": {},
   "source": [
    "Some interesting things to conclude here. First of all, there aren't that many paid apps in the data set. Secondly, the top of the distribution looks pretty similar. However, there are some really crappy free apps, but no really poor paid apps (at least not in this data set).\n",
    "\n",
    "\n",
    "Let's make a violin plot to get an estimate of the underlying distribution of the population."
   ]
  },
  {
   "cell_type": "code",
   "execution_count": 14,
   "metadata": {},
   "outputs": [
    {
     "data": {
      "text/plain": [
       "<seaborn.axisgrid.FacetGrid at 0x21f480af780>"
      ]
     },
     "execution_count": 14,
     "metadata": {},
     "output_type": "execute_result"
    },
    {
     "data": {
      "image/png": "[encoded data removed]",
      "text/plain": [
       "<matplotlib.figure.Figure at 0x21f487f0dd8>"
      ]
     },
     "metadata": {
      "needs_background": "light"
     },
     "output_type": "display_data"
    }
   ],
   "source": [
    "sns.catplot(x=\"type\", y=\"rating\", kind=\"violin\", data=df)\n",
    "plt.show()"
   ]
  },
  {
   "cell_type": "markdown",
   "metadata": {},
   "source": [
    "The two estimated distributions look similar, but there are two key differences:\n",
    "* Like we noted, some free apps score pretty poorly\n",
    "* The mode and median of the paid apps seem to be higher\n",
    "\n",
    "\n",
    "Let's calculate the means:"
   ]
  },
  {
   "cell_type": "code",
   "execution_count": 28,
   "metadata": {},
   "outputs": [
    {
     "name": "stdout",
     "output_type": "stream",
     "text": [
      "The mean rating for paid apps is 4.332\n",
      "The mean rating for free apps is 4.259964726631393\n"
     ]
    }
   ],
   "source": [
    "paid = df[df['type']=='Paid'] #this gets us a dataframe with only the paid apps\n",
    "free = df[df['type']=='Free'] #ditto for the free apps\n",
    "\n",
    "paid_mean = paid['rating'].mean()\n",
    "free_mean = free['rating'].mean()\n",
    "print(f'The mean rating for paid apps is {paid_mean}')\n",
    "print(f'The mean rating for free apps is {free_mean}')"
   ]
  },
  {
   "cell_type": "markdown",
   "metadata": {},
   "source": [
    "So we know the means of the sample. However, there are many more apps on Google Play that are not included in the data set. Let's do a hypothesis test of the differences in *population means*. The hypotheses are:\n",
    "\n",
    "* H0: the (population) mean rating is the same\n",
    "* H1: the (population) mean rating is different\n",
    "\n",
    "The test we need is a t-test: a difference in sample means (actually, one could argue whether all assumptions of the t-test hold; but for now, let's ignore that).\n",
    "\n",
    "We are doing a so-called \"independent t-test\", which means that the ratings of the free and paid apps are from different units (apps). A \"dependent t-test\" would be when the ratings are from the same unit (app)."
   ]
  },
  {
   "cell_type": "code",
   "execution_count": 29,
   "metadata": {},
   "outputs": [
    {
     "data": {
      "text/plain": [
       "Ttest_indResult(statistic=0.74875846810611291, pvalue=0.45430118609171444)"
      ]
     },
     "execution_count": 29,
     "metadata": {},
     "output_type": "execute_result"
    }
   ],
   "source": [
    "#We are doing an independent t-test (ttest_ind) (see above)\n",
    "#We compare the values in the 'rating' colum\n",
    "#By using the argument nan_policy we are telling Python to drop the NA's (otherwise, we would get an error)\n",
    "ttest_ind(paid['rating'], free['rating'], nan_policy='omit') "
   ]
  },
  {
   "cell_type": "markdown",
   "metadata": {},
   "source": [
    "The t-statistic is 0.75. The t-statistic by itself is not very meaningful. The p-value, however, gives us the probability of this kind of difference (or bigger) occurring under the null hypothesis of no difference. It's pretty big (p > 0.05), which means that this kind of dfference in the sample is actually not that unlikely.\n",
    "\n",
    "So, we conclude by keeping H0: we continue to assume that the the population means are not different.\n",
    "\n",
    "It might be, that given more evidence (enough paid apps in our sample), we would have reason to reject H0. But for now, we can keep H0.\n",
    "\n",
    "If the p-value were below 0.05, we would conclude that H0 is likely false and H1 is true: the means are not the same (the mean rating for paid apps is higher).\n"
   ]
  }
 ],
 "metadata": {
  "kernelspec": {
   "display_name": "Python 3",
   "language": "python",
   "name": "python3"
  },
  "language_info": {
   "codemirror_mode": {
    "name": "ipython",
    "version": 3
   },
   "file_extension": ".py",
   "mimetype": "text/x-python",
   "name": "python",
   "nbconvert_exporter": "python",
   "pygments_lexer": "ipython3",
   "version": "3.6.4"
  }
 },
 "nbformat": 4,
 "nbformat_minor": 2
}
