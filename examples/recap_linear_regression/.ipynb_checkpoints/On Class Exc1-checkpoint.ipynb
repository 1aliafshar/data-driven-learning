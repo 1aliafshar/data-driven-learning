{
 "cells": [
  {
   "cell_type": "markdown",
   "metadata": {},
   "source": [
    "## Import librar\n"
   ]
  },
  {
   "cell_type": "code",
   "execution_count": 2,
   "metadata": {},
   "outputs": [],
   "source": [
    "import seaborn as sns\n",
    "import pandas as pd\n",
    "import matplotlib.pyplot as plt\n",
    "import math"
   ]
  },
  {
   "cell_type": "markdown",
   "metadata": {},
   "source": [
    "## Reading data and summarizing\n",
    "\n"
   ]
  },
  {
   "cell_type": "code",
   "execution_count": 15,
   "metadata": {},
   "outputs": [
    {
     "data": {
      "text/html": [
       "<div>\n",
       "<style scoped>\n",
       "    .dataframe tbody tr th:only-of-type {\n",
       "        vertical-align: middle;\n",
       "    }\n",
       "\n",
       "    .dataframe tbody tr th {\n",
       "        vertical-align: top;\n",
       "    }\n",
       "\n",
       "    .dataframe thead th {\n",
       "        text-align: right;\n",
       "    }\n",
       "</style>\n",
       "<table border=\"1\" class=\"dataframe\">\n",
       "  <thead>\n",
       "    <tr style=\"text-align: right;\">\n",
       "      <th></th>\n",
       "      <th>id</th>\n",
       "      <th>gender</th>\n",
       "      <th>income</th>\n",
       "      <th>distance_center</th>\n",
       "      <th>website_visits</th>\n",
       "      <th>pages_viewed</th>\n",
       "      <th>time_social_media</th>\n",
       "      <th>spent_bol</th>\n",
       "    </tr>\n",
       "  </thead>\n",
       "  <tbody>\n",
       "    <tr>\n",
       "      <th>0</th>\n",
       "      <td>person_1</td>\n",
       "      <td>female</td>\n",
       "      <td>7065</td>\n",
       "      <td>4.6</td>\n",
       "      <td>30</td>\n",
       "      <td>105</td>\n",
       "      <td>117</td>\n",
       "      <td>1232</td>\n",
       "    </tr>\n",
       "    <tr>\n",
       "      <th>1</th>\n",
       "      <td>person_2</td>\n",
       "      <td>female</td>\n",
       "      <td>23028</td>\n",
       "      <td>9.8</td>\n",
       "      <td>23</td>\n",
       "      <td>81</td>\n",
       "      <td>70</td>\n",
       "      <td>1396</td>\n",
       "    </tr>\n",
       "    <tr>\n",
       "      <th>2</th>\n",
       "      <td>person_3</td>\n",
       "      <td>female</td>\n",
       "      <td>103377</td>\n",
       "      <td>9.2</td>\n",
       "      <td>11</td>\n",
       "      <td>38</td>\n",
       "      <td>94</td>\n",
       "      <td>1240</td>\n",
       "    </tr>\n",
       "    <tr>\n",
       "      <th>3</th>\n",
       "      <td>person_4</td>\n",
       "      <td>female</td>\n",
       "      <td>9815</td>\n",
       "      <td>3.2</td>\n",
       "      <td>16</td>\n",
       "      <td>54</td>\n",
       "      <td>124</td>\n",
       "      <td>720</td>\n",
       "    </tr>\n",
       "    <tr>\n",
       "      <th>4</th>\n",
       "      <td>person_5</td>\n",
       "      <td>female</td>\n",
       "      <td>22646</td>\n",
       "      <td>10.1</td>\n",
       "      <td>21</td>\n",
       "      <td>78</td>\n",
       "      <td>119</td>\n",
       "      <td>1379</td>\n",
       "    </tr>\n",
       "  </tbody>\n",
       "</table>\n",
       "</div>"
      ],
      "text/plain": [
       "         id  gender  income  distance_center  website_visits  pages_viewed  \\\n",
       "0  person_1  female    7065              4.6              30           105   \n",
       "1  person_2  female   23028              9.8              23            81   \n",
       "2  person_3  female  103377              9.2              11            38   \n",
       "3  person_4  female    9815              3.2              16            54   \n",
       "4  person_5  female   22646             10.1              21            78   \n",
       "\n",
       "   time_social_media  spent_bol  \n",
       "0                117       1232  \n",
       "1                 70       1396  \n",
       "2                 94       1240  \n",
       "3                124        720  \n",
       "4                119       1379  "
      ]
     },
     "execution_count": 15,
     "metadata": {},
     "output_type": "execute_result"
    }
   ],
   "source": [
    "df = pd.read_csv(\"bol_sales.csv\")\n",
    "df.describe() #get some summary statistics\n",
    "df['gender'].value_counts() #get a simple table of this variable\n",
    "df.head() #get the first rows"
   ]
  },
  {
   "cell_type": "markdown",
   "metadata": {},
   "source": [
    "## Data cleaning and pre-processing"
   ]
  },
  {
   "cell_type": "code",
   "execution_count": null,
   "metadata": {},
   "outputs": [],
   "source": []
  }
 ],
 "metadata": {
  "kernelspec": {
   "display_name": "Python 3",
   "language": "python",
   "name": "python3"
  },
  "language_info": {
   "codemirror_mode": {
    "name": "ipython",
    "version": 3
   },
   "file_extension": ".py",
   "mimetype": "text/x-python",
   "name": "python",
   "nbconvert_exporter": "python",
   "pygments_lexer": "ipython3",
   "version": "3.8.3"
  },
  "toc": {
   "base_numbering": 1,
   "nav_menu": {},
   "number_sections": true,
   "sideBar": true,
   "skip_h1_title": false,
   "title_cell": "Table of Contents",
   "title_sidebar": "Contents",
   "toc_cell": false,
   "toc_position": {},
   "toc_section_display": true,
   "toc_window_display": false
  }
 },
 "nbformat": 4,
 "nbformat_minor": 4
}
