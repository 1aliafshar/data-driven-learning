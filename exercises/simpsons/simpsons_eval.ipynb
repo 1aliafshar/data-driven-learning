{
 "cells": [
  {
   "cell_type": "markdown",
   "metadata": {},
   "source": [
    "# Evaluation of Naive Bayes"
   ]
  },
  {
   "cell_type": "markdown",
   "metadata": {},
   "source": [
    "In this Notebook, we will predict the character of lines of dialogue from the *Simpsons*."
   ]
  },
  {
   "cell_type": "code",
   "execution_count": 1,
   "metadata": {},
   "outputs": [],
   "source": [
    "import pandas as pd\n",
    "from sklearn.feature_extraction.text import CountVectorizer\n",
    "from sklearn.model_selection import train_test_split\n",
    "from sklearn.metrics import confusion_matrix\n",
    "from sklearn.naive_bayes import MultinomialNB"
   ]
  },
  {
   "cell_type": "markdown",
   "metadata": {},
   "source": [
    "First, let's start with the code to generate a document-feature matrix"
   ]
  },
  {
   "cell_type": "code",
   "execution_count": 2,
   "metadata": {},
   "outputs": [],
   "source": [
    "df = pd.read_csv('simpsons.csv')\n",
    "df = df.loc[(df['raw_character_text'] == 'Lisa Simpson') | (df['raw_character_text'] == 'Bart Simpson')]\n",
    "text = df['spoken_words'].values.astype('U') #Taking the text from the df. We need to convert it to Unicode\n",
    "vect = CountVectorizer(stop_words='english') #Create the CV object, with English stop words\n",
    "vect = vect.fit(text) #We fit the model with the words from the review text\n",
    "docu_feat = vect.transform(text) # make a matrix\n"
   ]
  },
  {
   "cell_type": "markdown",
   "metadata": {},
   "source": [
    "Now, we will use the Naïve Bayes classifier from `sklearn`."
   ]
  },
  {
   "cell_type": "code",
   "execution_count": 29,
   "metadata": {},
   "outputs": [
    {
     "data": {
      "text/html": [
       "<div>\n",
       "<style scoped>\n",
       "    .dataframe tbody tr th:only-of-type {\n",
       "        vertical-align: middle;\n",
       "    }\n",
       "\n",
       "    .dataframe tbody tr th {\n",
       "        vertical-align: top;\n",
       "    }\n",
       "\n",
       "    .dataframe thead th {\n",
       "        text-align: right;\n",
       "    }\n",
       "</style>\n",
       "<table border=\"1\" class=\"dataframe\">\n",
       "  <thead>\n",
       "    <tr style=\"text-align: right;\">\n",
       "      <th></th>\n",
       "      <th>raw_character_text</th>\n",
       "      <th>spoken_words</th>\n",
       "    </tr>\n",
       "  </thead>\n",
       "  <tbody>\n",
       "    <tr>\n",
       "      <th>1</th>\n",
       "      <td>Lisa Simpson</td>\n",
       "      <td>Where's Mr. Bergstrom?</td>\n",
       "    </tr>\n",
       "    <tr>\n",
       "      <th>3</th>\n",
       "      <td>Lisa Simpson</td>\n",
       "      <td>That life is worth living.</td>\n",
       "    </tr>\n",
       "    <tr>\n",
       "      <th>7</th>\n",
       "      <td>Bart Simpson</td>\n",
       "      <td>Victory party under the slide!</td>\n",
       "    </tr>\n",
       "    <tr>\n",
       "      <th>9</th>\n",
       "      <td>Lisa Simpson</td>\n",
       "      <td>Mr. Bergstrom! Mr. Bergstrom!</td>\n",
       "    </tr>\n",
       "    <tr>\n",
       "      <th>11</th>\n",
       "      <td>Lisa Simpson</td>\n",
       "      <td>Do you know where I could find him?</td>\n",
       "    </tr>\n",
       "    <tr>\n",
       "      <th>13</th>\n",
       "      <td>Lisa Simpson</td>\n",
       "      <td>The train, how like him... traditional, yet en...</td>\n",
       "    </tr>\n",
       "    <tr>\n",
       "      <th>15</th>\n",
       "      <td>Lisa Simpson</td>\n",
       "      <td>I see he touched you, too.</td>\n",
       "    </tr>\n",
       "    <tr>\n",
       "      <th>17</th>\n",
       "      <td>Bart Simpson</td>\n",
       "      <td>Hey, thanks for your vote, man.</td>\n",
       "    </tr>\n",
       "    <tr>\n",
       "      <th>19</th>\n",
       "      <td>Bart Simpson</td>\n",
       "      <td>Well, you got that right. Thanks for your vote...</td>\n",
       "    </tr>\n",
       "    <tr>\n",
       "      <th>21</th>\n",
       "      <td>Bart Simpson</td>\n",
       "      <td>Well, don't sweat it. Just so long as a couple...</td>\n",
       "    </tr>\n",
       "    <tr>\n",
       "      <th>23</th>\n",
       "      <td>Bart Simpson</td>\n",
       "      <td>Lewis?</td>\n",
       "    </tr>\n",
       "    <tr>\n",
       "      <th>24</th>\n",
       "      <td>Bart Simpson</td>\n",
       "      <td>Somebody must have voted.</td>\n",
       "    </tr>\n",
       "    <tr>\n",
       "      <th>26</th>\n",
       "      <td>Bart Simpson</td>\n",
       "      <td>Uh oh.</td>\n",
       "    </tr>\n",
       "    <tr>\n",
       "      <th>27</th>\n",
       "      <td>Bart Simpson</td>\n",
       "      <td>NaN</td>\n",
       "    </tr>\n",
       "    <tr>\n",
       "      <th>30</th>\n",
       "      <td>Bart Simpson</td>\n",
       "      <td>I demand a recount.</td>\n",
       "    </tr>\n",
       "    <tr>\n",
       "      <th>32</th>\n",
       "      <td>Bart Simpson</td>\n",
       "      <td>No.</td>\n",
       "    </tr>\n",
       "    <tr>\n",
       "      <th>37</th>\n",
       "      <td>Lisa Simpson</td>\n",
       "      <td>Mr. Bergstrom! Hey, Mr. Bergstrom!</td>\n",
       "    </tr>\n",
       "    <tr>\n",
       "      <th>39</th>\n",
       "      <td>Lisa Simpson</td>\n",
       "      <td>Hey, Lisa, indeed.</td>\n",
       "    </tr>\n",
       "    <tr>\n",
       "      <th>41</th>\n",
       "      <td>Lisa Simpson</td>\n",
       "      <td>Oh, I mean, were you just going to leave, just...</td>\n",
       "    </tr>\n",
       "    <tr>\n",
       "      <th>43</th>\n",
       "      <td>Lisa Simpson</td>\n",
       "      <td>You can't go! You're the best teacher I'll eve...</td>\n",
       "    </tr>\n",
       "    <tr>\n",
       "      <th>45</th>\n",
       "      <td>Lisa Simpson</td>\n",
       "      <td>Oh, please.</td>\n",
       "    </tr>\n",
       "    <tr>\n",
       "      <th>47</th>\n",
       "      <td>Lisa Simpson</td>\n",
       "      <td>But I need you too.</td>\n",
       "    </tr>\n",
       "    <tr>\n",
       "      <th>49</th>\n",
       "      <td>Lisa Simpson</td>\n",
       "      <td>I, I understand. Mr. Bergstrom, I'm going to m...</td>\n",
       "    </tr>\n",
       "    <tr>\n",
       "      <th>52</th>\n",
       "      <td>Lisa Simpson</td>\n",
       "      <td>Thank you, Mr. Bergstrom.</td>\n",
       "    </tr>\n",
       "    <tr>\n",
       "      <th>54</th>\n",
       "      <td>Lisa Simpson</td>\n",
       "      <td>So, I guess this is it? It you don't mind I'll...</td>\n",
       "    </tr>\n",
       "    <tr>\n",
       "      <th>59</th>\n",
       "      <td>Lisa Simpson</td>\n",
       "      <td>Nothing.</td>\n",
       "    </tr>\n",
       "    <tr>\n",
       "      <th>61</th>\n",
       "      <td>Lisa Simpson</td>\n",
       "      <td>Mr. Bergstrom left today.</td>\n",
       "    </tr>\n",
       "    <tr>\n",
       "      <th>63</th>\n",
       "      <td>Lisa Simpson</td>\n",
       "      <td>He's gone. Forever.</td>\n",
       "    </tr>\n",
       "    <tr>\n",
       "      <th>65</th>\n",
       "      <td>Lisa Simpson</td>\n",
       "      <td>I didn't think you'd understand.</td>\n",
       "    </tr>\n",
       "    <tr>\n",
       "      <th>67</th>\n",
       "      <td>Lisa Simpson</td>\n",
       "      <td>I'm glad I'm not crying because I would hate f...</td>\n",
       "    </tr>\n",
       "    <tr>\n",
       "      <th>...</th>\n",
       "      <td>...</td>\n",
       "      <td>...</td>\n",
       "    </tr>\n",
       "    <tr>\n",
       "      <th>158214</th>\n",
       "      <td>Bart Simpson</td>\n",
       "      <td>Waaaaaaaah!</td>\n",
       "    </tr>\n",
       "    <tr>\n",
       "      <th>158217</th>\n",
       "      <td>Lisa Simpson</td>\n",
       "      <td>Yes! Yes, Mr. Bergstrom?</td>\n",
       "    </tr>\n",
       "    <tr>\n",
       "      <th>158219</th>\n",
       "      <td>Lisa Simpson</td>\n",
       "      <td>No. Homework's not my father's specialty.</td>\n",
       "    </tr>\n",
       "    <tr>\n",
       "      <th>158221</th>\n",
       "      <td>Lisa Simpson</td>\n",
       "      <td>Not mine.</td>\n",
       "    </tr>\n",
       "    <tr>\n",
       "      <th>158223</th>\n",
       "      <td>Lisa Simpson</td>\n",
       "      <td>Unless the next word was burp, you didn't have...</td>\n",
       "    </tr>\n",
       "    <tr>\n",
       "      <th>158226</th>\n",
       "      <td>Bart Simpson</td>\n",
       "      <td>That's not enough! We demand more asbestos! Mo...</td>\n",
       "    </tr>\n",
       "    <tr>\n",
       "      <th>158229</th>\n",
       "      <td>Bart Simpson</td>\n",
       "      <td>Aw, Dad. It's just a popularity contest.</td>\n",
       "    </tr>\n",
       "    <tr>\n",
       "      <th>158231</th>\n",
       "      <td>Bart Simpson</td>\n",
       "      <td>Sure, why not?</td>\n",
       "    </tr>\n",
       "    <tr>\n",
       "      <th>158233</th>\n",
       "      <td>Bart Simpson</td>\n",
       "      <td>Hm, yeah.</td>\n",
       "    </tr>\n",
       "    <tr>\n",
       "      <th>158235</th>\n",
       "      <td>Bart Simpson</td>\n",
       "      <td>He says, there aren't any easy answers! I say,...</td>\n",
       "    </tr>\n",
       "    <tr>\n",
       "      <th>158238</th>\n",
       "      <td>Lisa Simpson</td>\n",
       "      <td>Oh, you'll never go broke appealing to the low...</td>\n",
       "    </tr>\n",
       "    <tr>\n",
       "      <th>158240</th>\n",
       "      <td>Lisa Simpson</td>\n",
       "      <td>When?</td>\n",
       "    </tr>\n",
       "    <tr>\n",
       "      <th>158242</th>\n",
       "      <td>Lisa Simpson</td>\n",
       "      <td>Places where my intelligence will be an asset,...</td>\n",
       "    </tr>\n",
       "    <tr>\n",
       "      <th>158244</th>\n",
       "      <td>Lisa Simpson</td>\n",
       "      <td>I believe everything you say, with your words,...</td>\n",
       "    </tr>\n",
       "    <tr>\n",
       "      <th>158254</th>\n",
       "      <td>Bart Simpson</td>\n",
       "      <td>Me, too, Mom. I think they're drifting apart.</td>\n",
       "    </tr>\n",
       "    <tr>\n",
       "      <th>158266</th>\n",
       "      <td>Lisa Simpson</td>\n",
       "      <td>Mr. Bergstrom!</td>\n",
       "    </tr>\n",
       "    <tr>\n",
       "      <th>158271</th>\n",
       "      <td>Lisa Simpson</td>\n",
       "      <td>Wow!</td>\n",
       "    </tr>\n",
       "    <tr>\n",
       "      <th>158273</th>\n",
       "      <td>Lisa Simpson</td>\n",
       "      <td>Ewww. Gross.</td>\n",
       "    </tr>\n",
       "    <tr>\n",
       "      <th>158275</th>\n",
       "      <td>Lisa Simpson</td>\n",
       "      <td>Oh Lord.</td>\n",
       "    </tr>\n",
       "    <tr>\n",
       "      <th>158287</th>\n",
       "      <td>Lisa Simpson</td>\n",
       "      <td>He ruined the one chance I had of getting to k...</td>\n",
       "    </tr>\n",
       "    <tr>\n",
       "      <th>158289</th>\n",
       "      <td>Lisa Simpson</td>\n",
       "      <td>Oh, Mom, that's wonderful. Can I find out his ...</td>\n",
       "    </tr>\n",
       "    <tr>\n",
       "      <th>158291</th>\n",
       "      <td>Lisa Simpson</td>\n",
       "      <td>Can I wear your jewelry?</td>\n",
       "    </tr>\n",
       "    <tr>\n",
       "      <th>158293</th>\n",
       "      <td>Lisa Simpson</td>\n",
       "      <td>Can I get my ears pierced?</td>\n",
       "    </tr>\n",
       "    <tr>\n",
       "      <th>158295</th>\n",
       "      <td>Lisa Simpson</td>\n",
       "      <td>Can I dye my shoes pink?</td>\n",
       "    </tr>\n",
       "    <tr>\n",
       "      <th>158297</th>\n",
       "      <td>Lisa Simpson</td>\n",
       "      <td>Can I paint my nails?</td>\n",
       "    </tr>\n",
       "    <tr>\n",
       "      <th>158299</th>\n",
       "      <td>Lisa Simpson</td>\n",
       "      <td>Can we have wine?</td>\n",
       "    </tr>\n",
       "    <tr>\n",
       "      <th>158301</th>\n",
       "      <td>Lisa Simpson</td>\n",
       "      <td>Can I have wine?</td>\n",
       "    </tr>\n",
       "    <tr>\n",
       "      <th>158303</th>\n",
       "      <td>Lisa Simpson</td>\n",
       "      <td>Does Bart have to be there?</td>\n",
       "    </tr>\n",
       "    <tr>\n",
       "      <th>158305</th>\n",
       "      <td>Lisa Simpson</td>\n",
       "      <td>Can we do it this week?</td>\n",
       "    </tr>\n",
       "    <tr>\n",
       "      <th>158307</th>\n",
       "      <td>Lisa Simpson</td>\n",
       "      <td>Mr. Bergstrom, we request the pleasure of your...</td>\n",
       "    </tr>\n",
       "  </tbody>\n",
       "</table>\n",
       "<p>25248 rows × 2 columns</p>\n",
       "</div>"
      ],
      "text/plain": [
       "       raw_character_text                                       spoken_words\n",
       "1            Lisa Simpson                             Where's Mr. Bergstrom?\n",
       "3            Lisa Simpson                         That life is worth living.\n",
       "7            Bart Simpson                     Victory party under the slide!\n",
       "9            Lisa Simpson                      Mr. Bergstrom! Mr. Bergstrom!\n",
       "11           Lisa Simpson                Do you know where I could find him?\n",
       "13           Lisa Simpson  The train, how like him... traditional, yet en...\n",
       "15           Lisa Simpson                         I see he touched you, too.\n",
       "17           Bart Simpson                    Hey, thanks for your vote, man.\n",
       "19           Bart Simpson  Well, you got that right. Thanks for your vote...\n",
       "21           Bart Simpson  Well, don't sweat it. Just so long as a couple...\n",
       "23           Bart Simpson                                             Lewis?\n",
       "24           Bart Simpson                          Somebody must have voted.\n",
       "26           Bart Simpson                                             Uh oh.\n",
       "27           Bart Simpson                                                NaN\n",
       "30           Bart Simpson                                I demand a recount.\n",
       "32           Bart Simpson                                                No.\n",
       "37           Lisa Simpson                 Mr. Bergstrom! Hey, Mr. Bergstrom!\n",
       "39           Lisa Simpson                                 Hey, Lisa, indeed.\n",
       "41           Lisa Simpson  Oh, I mean, were you just going to leave, just...\n",
       "43           Lisa Simpson  You can't go! You're the best teacher I'll eve...\n",
       "45           Lisa Simpson                                        Oh, please.\n",
       "47           Lisa Simpson                                But I need you too.\n",
       "49           Lisa Simpson  I, I understand. Mr. Bergstrom, I'm going to m...\n",
       "52           Lisa Simpson                          Thank you, Mr. Bergstrom.\n",
       "54           Lisa Simpson  So, I guess this is it? It you don't mind I'll...\n",
       "59           Lisa Simpson                                           Nothing.\n",
       "61           Lisa Simpson                          Mr. Bergstrom left today.\n",
       "63           Lisa Simpson                                He's gone. Forever.\n",
       "65           Lisa Simpson                   I didn't think you'd understand.\n",
       "67           Lisa Simpson  I'm glad I'm not crying because I would hate f...\n",
       "...                   ...                                                ...\n",
       "158214       Bart Simpson                                        Waaaaaaaah!\n",
       "158217       Lisa Simpson                           Yes! Yes, Mr. Bergstrom?\n",
       "158219       Lisa Simpson          No. Homework's not my father's specialty.\n",
       "158221       Lisa Simpson                                          Not mine.\n",
       "158223       Lisa Simpson  Unless the next word was burp, you didn't have...\n",
       "158226       Bart Simpson  That's not enough! We demand more asbestos! Mo...\n",
       "158229       Bart Simpson           Aw, Dad. It's just a popularity contest.\n",
       "158231       Bart Simpson                                     Sure, why not?\n",
       "158233       Bart Simpson                                          Hm, yeah.\n",
       "158235       Bart Simpson  He says, there aren't any easy answers! I say,...\n",
       "158238       Lisa Simpson  Oh, you'll never go broke appealing to the low...\n",
       "158240       Lisa Simpson                                              When?\n",
       "158242       Lisa Simpson  Places where my intelligence will be an asset,...\n",
       "158244       Lisa Simpson  I believe everything you say, with your words,...\n",
       "158254       Bart Simpson      Me, too, Mom. I think they're drifting apart.\n",
       "158266       Lisa Simpson                                     Mr. Bergstrom!\n",
       "158271       Lisa Simpson                                               Wow!\n",
       "158273       Lisa Simpson                                       Ewww. Gross.\n",
       "158275       Lisa Simpson                                           Oh Lord.\n",
       "158287       Lisa Simpson  He ruined the one chance I had of getting to k...\n",
       "158289       Lisa Simpson  Oh, Mom, that's wonderful. Can I find out his ...\n",
       "158291       Lisa Simpson                           Can I wear your jewelry?\n",
       "158293       Lisa Simpson                         Can I get my ears pierced?\n",
       "158295       Lisa Simpson                           Can I dye my shoes pink?\n",
       "158297       Lisa Simpson                              Can I paint my nails?\n",
       "158299       Lisa Simpson                                  Can we have wine?\n",
       "158301       Lisa Simpson                                   Can I have wine?\n",
       "158303       Lisa Simpson                        Does Bart have to be there?\n",
       "158305       Lisa Simpson                            Can we do it this week?\n",
       "158307       Lisa Simpson  Mr. Bergstrom, we request the pleasure of your...\n",
       "\n",
       "[25248 rows x 2 columns]"
      ]
     },
     "execution_count": 29,
     "metadata": {},
     "output_type": "execute_result"
    }
   ],
   "source": [
    "df"
   ]
  },
  {
   "cell_type": "code",
   "execution_count": 3,
   "metadata": {},
   "outputs": [
    {
     "data": {
      "text/plain": [
       "0.63260726072607265"
      ]
     },
     "execution_count": 3,
     "metadata": {},
     "output_type": "execute_result"
    }
   ],
   "source": [
    "nb = MultinomialNB() #create the model\n",
    "X = docu_feat #the document-feature matrix is the X matrix\n",
    "y = df['raw_character_text'] #creating the y vector\n",
    "\n",
    "X_train, X_test, y_train, y_test = train_test_split(X, y, test_size=0.3) #split the data and store it\n",
    "\n",
    "nb = nb.fit(X_train, y_train) #fit the model X=features, y=character\n",
    "\n",
    "#Evaluate the model\n",
    "y_test_p = nb.predict(X_test)\n",
    "nb.score(X_test, y_test)\n"
   ]
  },
  {
   "cell_type": "code",
   "execution_count": 17,
   "metadata": {},
   "outputs": [
    {
     "data": {
      "text/plain": [
       "array(['Lisa Simpson', 'Bart Simpson', 'Lisa Simpson', ..., 'Lisa Simpson',\n",
       "       'Lisa Simpson', 'Bart Simpson'], \n",
       "      dtype='<U12')"
      ]
     },
     "execution_count": 17,
     "metadata": {},
     "output_type": "execute_result"
    }
   ],
   "source": [
    "y_test_p"
   ]
  },
  {
   "cell_type": "markdown",
   "metadata": {},
   "source": [
    "The accuracy is 63.7%, which is not great considering there are only two categories. What if we guessed the same category all the time?"
   ]
  },
  {
   "cell_type": "code",
   "execution_count": 4,
   "metadata": {},
   "outputs": [
    {
     "data": {
      "text/plain": [
       "Bart Simpson    0.544954\n",
       "Lisa Simpson    0.455046\n",
       "Name: raw_character_text, dtype: float64"
      ]
     },
     "execution_count": 4,
     "metadata": {},
     "output_type": "execute_result"
    }
   ],
   "source": [
    "df['raw_character_text'].value_counts(normalize=True)"
   ]
  },
  {
   "cell_type": "markdown",
   "metadata": {},
   "source": [
    "So we're doing about 9.3 percentage points better than when we guessed Bart all the time. Not great, but that's to be expected with such short lines of dialogue. Let's create a confusion matrix."
   ]
  },
  {
   "cell_type": "code",
   "execution_count": 26,
   "metadata": {},
   "outputs": [
    {
     "data": {
      "text/html": [
       "<div>\n",
       "<style scoped>\n",
       "    .dataframe tbody tr th:only-of-type {\n",
       "        vertical-align: middle;\n",
       "    }\n",
       "\n",
       "    .dataframe tbody tr th {\n",
       "        vertical-align: top;\n",
       "    }\n",
       "\n",
       "    .dataframe thead th {\n",
       "        text-align: right;\n",
       "    }\n",
       "</style>\n",
       "<table border=\"1\" class=\"dataframe\">\n",
       "  <thead>\n",
       "    <tr style=\"text-align: right;\">\n",
       "      <th></th>\n",
       "      <th>Bart pred</th>\n",
       "      <th>Lisa pred</th>\n",
       "    </tr>\n",
       "  </thead>\n",
       "  <tbody>\n",
       "    <tr>\n",
       "      <th>Bart</th>\n",
       "      <td>3235</td>\n",
       "      <td>862</td>\n",
       "    </tr>\n",
       "    <tr>\n",
       "      <th>Lisa</th>\n",
       "      <td>1921</td>\n",
       "      <td>1557</td>\n",
       "    </tr>\n",
       "  </tbody>\n",
       "</table>\n",
       "</div>"
      ],
      "text/plain": [
       "      Bart pred  Lisa pred\n",
       "Bart       3235        862\n",
       "Lisa       1921       1557"
      ]
     },
     "execution_count": 26,
     "metadata": {},
     "output_type": "execute_result"
    }
   ],
   "source": [
    "cm = confusion_matrix(y_test, y_test_p)\n",
    "cm = pd.DataFrame(cm, index=['Bart', 'Lisa'], columns=['Bart pred', 'Lisa pred'])\n",
    "cm"
   ]
  },
  {
   "cell_type": "markdown",
   "metadata": {},
   "source": [
    "Bart has more lines than Lisa, which is how I figured out the ordering of the labels. However, you can also always get them using the `.classes_` attribute of the object."
   ]
  },
  {
   "cell_type": "code",
   "execution_count": 22,
   "metadata": {},
   "outputs": [
    {
     "data": {
      "text/plain": [
       "array(['Bart Simpson', 'Lisa Simpson'], \n",
       "      dtype='<U12')"
      ]
     },
     "execution_count": 22,
     "metadata": {},
     "output_type": "execute_result"
    }
   ],
   "source": [
    "nb.classes_"
   ]
  },
  {
   "cell_type": "markdown",
   "metadata": {},
   "source": [
    "Let's calculate precision and recall. Remember: precision is the proportion of the \"Bart\" predictions that is actually \"Bart\". Recall is the proportion of real \"Bart\" that is predicted as \"Bart\"."
   ]
  },
  {
   "cell_type": "code",
   "execution_count": 12,
   "metadata": {},
   "outputs": [
    {
     "name": "stdout",
     "output_type": "stream",
     "text": [
      "The precision for Bart is: 0.6428288431061807\n",
      "The recall for Bart is: 0.7800480769230769\n",
      "The precision for Lisa is: 0.6379105658884052\n",
      "The precision for Lisa is: 0.4720351390922401\n"
     ]
    }
   ],
   "source": [
    "print(f\"The precision for Bart is: {cm.iloc[0,0]/(cm.iloc[0,0]+cm.iloc[1,0])}\")\n",
    "print(f\"The recall for Bart is: {cm.iloc[0,0]/(cm.iloc[0,0]+cm.iloc[0,1])}\")\n",
    "print(f\"The precision for Lisa is: {cm.iloc[1,1]/(cm.iloc[1,1]+cm.iloc[0,1])}\")\n",
    "print(f\"The precision for Lisa is: {cm.iloc[1,1]/(cm.iloc[1,1]+cm.iloc[1,0])}\")\n"
   ]
  },
  {
   "cell_type": "markdown",
   "metadata": {},
   "source": [
    "We could do the same much shorter using a built-in function `classification_report`"
   ]
  },
  {
   "cell_type": "code",
   "execution_count": 16,
   "metadata": {},
   "outputs": [
    {
     "name": "stdout",
     "output_type": "stream",
     "text": [
      "              precision    recall  f1-score   support\n",
      "\n",
      "Bart Simpson       0.64      0.78      0.70      4160\n",
      "Lisa Simpson       0.64      0.47      0.54      3415\n",
      "\n",
      " avg / total       0.64      0.64      0.63      7575\n",
      "\n"
     ]
    }
   ],
   "source": [
    "from sklearn.metrics import classification_report\n",
    "print(classification_report(y_test, y_test_p, nb.classes_)) #this function needs the class names, which are in nb.classes_"
   ]
  },
  {
   "cell_type": "markdown",
   "metadata": {},
   "source": [
    "We can predict the probabilities of a line of dialogue using the method `.predict_proba`. Let's try it on a line of dialogue."
   ]
  },
  {
   "cell_type": "code",
   "execution_count": 31,
   "metadata": {},
   "outputs": [
    {
     "name": "stdout",
     "output_type": "stream",
     "text": [
      "Where's Mr. Bergstrom?\n",
      "[[ 0.02634007  0.97365993]]\n"
     ]
    }
   ],
   "source": [
    "print(df.iloc[0,1])\n",
    "print(nb.predict_proba(X[0]))"
   ]
  },
  {
   "cell_type": "markdown",
   "metadata": {},
   "source": [
    "This gives us an array/matrix of size 1x2 (you can see this from the double square brackets). Let's check out more lines. We need to get inside the array. Note that the array is two-dimensional (see the brackets)."
   ]
  },
  {
   "cell_type": "code",
   "execution_count": 34,
   "metadata": {},
   "outputs": [
    {
     "name": "stdout",
     "output_type": "stream",
     "text": [
      "Line: 0. Where's Mr. Bergstrom?\n",
      "Bart: 0.0263400706807323, Lisa: 0.9736599293192669\n",
      "Line: 1. That life is worth living.\n",
      "Bart: 0.8048921614350071, Lisa: 0.1951078385649927\n",
      "Line: 2. Victory party under the slide!\n",
      "Bart: 0.4878858829660796, Lisa: 0.5121141170339188\n",
      "Line: 3. Mr. Bergstrom! Mr. Bergstrom!\n",
      "Bart: 0.000606422812669835, Lisa: 0.9993935771873295\n",
      "Line: 4. Do you know where I could find him?\n",
      "Bart: 0.5531864614509548, Lisa: 0.4468135385490454\n",
      "Line: 5. The train, how like him... traditional, yet environmentally sound.\n",
      "Bart: 0.0866691154438012, Lisa: 0.913330884556198\n",
      "Line: 6. I see he touched you, too.\n",
      "Bart: 0.268789237936734, Lisa: 0.7312107620632654\n",
      "Line: 7. Hey, thanks for your vote, man.\n",
      "Bart: 0.9548914489348257, Lisa: 0.0451085510651731\n",
      "Line: 8. Well, you got that right. Thanks for your vote, girls.\n",
      "Bart: 0.8303941841995993, Lisa: 0.16960581580039805\n",
      "Line: 9. Well, don't sweat it. Just so long as a couple of people did... right, Milhouse?\n",
      "Bart: 0.7309511834503885, Lisa: 0.2690488165496131\n"
     ]
    }
   ],
   "source": [
    "for i in range(10):\n",
    "    prob = nb.predict_proba(X[i])\n",
    "    print(f\"Line: {i}. {df.iloc[i,1]}\")\n",
    "    print(f\"Bart: {prob[0,0]}, Lisa: {prob[0,1]}\")"
   ]
  },
  {
   "cell_type": "markdown",
   "metadata": {},
   "source": [
    "Some things to note here that the algorithm might have picked up (for fans of the Simpsons):\n",
    "* Lines 1, 2, 4, 6 provide too little information\n",
    "* Lines 0, 3: Bergstrom is Lisa's substitute teacher\n",
    "* Line 5: might be because of the complex words (and Lisa cares about the environment, too)\n",
    "* Line 7: 'Hey' and especially 'man' make this a very Bart-thing to say.\n",
    "* Line 8: Don't know, maybe 'girls'?\n",
    "* Line 9: Milhouse is Bart's friend (though also in love with Lisa, so it's close)\n",
    "\n",
    "If you want to check out which features predict the classes strongly, see the attribute `feature_log_prob_` of the Naive Bayes model."
   ]
  }
 ],
 "metadata": {
  "kernelspec": {
   "display_name": "Python 3",
   "language": "python",
   "name": "python3"
  },
  "language_info": {
   "codemirror_mode": {
    "name": "ipython",
    "version": 3
   },
   "file_extension": ".py",
   "mimetype": "text/x-python",
   "name": "python",
   "nbconvert_exporter": "python",
   "pygments_lexer": "ipython3",
   "version": "3.6.4"
  }
 },
 "nbformat": 4,
 "nbformat_minor": 2
}
